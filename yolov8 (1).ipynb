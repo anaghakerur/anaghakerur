{
  "cells": [
    {
      "cell_type": "code",
      "execution_count": 5,
      "metadata": {
        "colab": {
          "base_uri": "https://localhost:8080/"
        },
        "id": "VawPWxwUkGwR",
        "outputId": "60e75a1f-bc77-4d66-c700-3bc83d344ac0"
      },
      "outputs": [
        {
          "output_type": "stream",
          "name": "stdout",
          "text": [
            "HOME set to: /content\n"
          ]
        }
      ],
      "source": [
        "import os\n",
        "\n",
        "HOME = \"/content\"\n",
        "print(\"HOME set to:\", HOME)"
      ]
    },
    {
      "cell_type": "code",
      "source": [
        "!pip install numpy==1.26.4"
      ],
      "metadata": {
        "id": "_ROUy4nEwB8y"
      },
      "execution_count": null,
      "outputs": []
    },
    {
      "cell_type": "code",
      "execution_count": 6,
      "metadata": {
        "colab": {
          "base_uri": "https://localhost:8080/"
        },
        "id": "7OHN5haHlKaZ",
        "outputId": "49bc7b61-801d-4f74-b345-dea7eca6ffe9"
      },
      "outputs": [
        {
          "output_type": "stream",
          "name": "stderr",
          "text": [
            "Ultralytics YOLOv8.0.196 🚀 Python-3.12.11 torch-2.2.0+cpu CPU (Intel Xeon 2.00GHz)\n",
            "Setup complete ✅ (2 CPUs, 12.7 GB RAM, 40.7/112.6 GB disk)\n"
          ]
        }
      ],
      "source": [
        "! pip install ultralytics==8.0.196\n",
        "\n",
        "\n",
        "from IPython import display\n",
        "display.clear_output()\n",
        "\n",
        "import ultralytics\n",
        "ultralytics.checks()"
      ]
    },
    {
      "cell_type": "code",
      "execution_count": 7,
      "metadata": {
        "id": "BZI93-bolNvO"
      },
      "outputs": [],
      "source": [
        "from ultralytics import YOLO\n",
        "\n",
        "from IPython.display import Image"
      ]
    },
    {
      "cell_type": "code",
      "source": [
        "model = YOLO(\"yolov8s.pt\")  # load pretrained model"
      ],
      "metadata": {
        "id": "9EdAhl1Cu2ND"
      },
      "execution_count": 8,
      "outputs": []
    },
    {
      "cell_type": "code",
      "source": [
        "source = \"/content/3riders-2/test/images\"  # your test images\n",
        "!yolo task=detect mode=predict model=yolov8s.pt conf=0.25 source={source} save=True"
      ],
      "metadata": {
        "id": "ia5DVxQMvDkD",
        "outputId": "ba4f8b0e-22fa-4a32-9ce4-0aa8a486504b",
        "colab": {
          "base_uri": "https://localhost:8080/"
        }
      },
      "execution_count": 9,
      "outputs": [
        {
          "output_type": "stream",
          "name": "stdout",
          "text": [
            "\n",
            "A module that was compiled using NumPy 1.x cannot be run in\n",
            "NumPy 2.2.6 as it may crash. To support both 1.x and 2.x\n",
            "versions of NumPy, modules must be compiled with NumPy 2.0.\n",
            "Some module may need to rebuild instead e.g. with 'pybind11>=2.12'.\n",
            "\n",
            "If you are a user of the module, the easiest solution will be to\n",
            "downgrade to 'numpy<2' or try to upgrade the affected module.\n",
            "We expect that some modules will need time to support NumPy 2.\n",
            "\n",
            "Traceback (most recent call last):  File \"/usr/local/bin/yolo\", line 5, in <module>\n",
            "    from ultralytics.cfg import entrypoint\n",
            "  File \"/usr/local/lib/python3.12/dist-packages/ultralytics/__init__.py\", line 5, in <module>\n",
            "    from ultralytics.models import RTDETR, SAM, YOLO\n",
            "  File \"/usr/local/lib/python3.12/dist-packages/ultralytics/models/__init__.py\", line 3, in <module>\n",
            "    from .rtdetr import RTDETR\n",
            "  File \"/usr/local/lib/python3.12/dist-packages/ultralytics/models/rtdetr/__init__.py\", line 3, in <module>\n",
            "    from .model import RTDETR\n",
            "  File \"/usr/local/lib/python3.12/dist-packages/ultralytics/models/rtdetr/model.py\", line 3, in <module>\n",
            "    from ultralytics.engine.model import Model\n",
            "  File \"/usr/local/lib/python3.12/dist-packages/ultralytics/engine/model.py\", line 8, in <module>\n",
            "    from ultralytics.cfg import TASK2DATA, get_cfg, get_save_dir\n",
            "  File \"/usr/local/lib/python3.12/dist-packages/ultralytics/cfg/__init__.py\", line 10, in <module>\n",
            "    from ultralytics.utils import (ASSETS, DEFAULT_CFG, DEFAULT_CFG_DICT, DEFAULT_CFG_PATH, LOGGER, RANK, ROOT, SETTINGS,\n",
            "  File \"/usr/local/lib/python3.12/dist-packages/ultralytics/utils/__init__.py\", line 21, in <module>\n",
            "    import torch\n",
            "  File \"/usr/local/lib/python3.12/dist-packages/torch/__init__.py\", line 1471, in <module>\n",
            "    from .functional import *  # noqa: F403\n",
            "  File \"/usr/local/lib/python3.12/dist-packages/torch/functional.py\", line 9, in <module>\n",
            "    import torch.nn.functional as F\n",
            "  File \"/usr/local/lib/python3.12/dist-packages/torch/nn/__init__.py\", line 1, in <module>\n",
            "    from .modules import *  # noqa: F403\n",
            "  File \"/usr/local/lib/python3.12/dist-packages/torch/nn/modules/__init__.py\", line 35, in <module>\n",
            "    from .transformer import TransformerEncoder, TransformerDecoder, \\\n",
            "  File \"/usr/local/lib/python3.12/dist-packages/torch/nn/modules/transformer.py\", line 20, in <module>\n",
            "    device: torch.device = torch.device(torch._C._get_default_device()),  # torch.device('cpu'),\n",
            "/usr/local/lib/python3.12/dist-packages/torch/nn/modules/transformer.py:20: UserWarning: Failed to initialize NumPy: _ARRAY_API not found (Triggered internally at ../torch/csrc/utils/tensor_numpy.cpp:84.)\n",
            "  device: torch.device = torch.device(torch._C._get_default_device()),  # torch.device('cpu'),\n",
            "Ultralytics YOLOv8.0.196 🚀 Python-3.12.11 torch-2.2.0+cpu CPU (Intel Xeon 2.00GHz)\n",
            "YOLOv8s summary (fused): 168 layers, 11156544 parameters, 0 gradients, 28.6 GFLOPs\n",
            "\n",
            "Traceback (most recent call last):\n",
            "  File \"/usr/local/bin/yolo\", line 8, in <module>\n",
            "    sys.exit(entrypoint())\n",
            "             ^^^^^^^^^^^^\n",
            "  File \"/usr/local/lib/python3.12/dist-packages/ultralytics/cfg/__init__.py\", line 445, in entrypoint\n",
            "    getattr(model, mode)(**overrides)  # default args from model\n",
            "    ^^^^^^^^^^^^^^^^^^^^^^^^^^^^^^^^^\n",
            "  File \"/usr/local/lib/python3.12/dist-packages/ultralytics/engine/model.py\", line 242, in predict\n",
            "    return self.predictor.predict_cli(source=source) if is_cli else self.predictor(source=source, stream=stream)\n",
            "           ^^^^^^^^^^^^^^^^^^^^^^^^^^^^^^^^^^^^^^^^^\n",
            "  File \"/usr/local/lib/python3.12/dist-packages/ultralytics/engine/predictor.py\", line 205, in predict_cli\n",
            "    for _ in gen:  # running CLI inference without accumulating any outputs (do not modify)\n",
            "             ^^^\n",
            "  File \"/usr/local/lib/python3.12/dist-packages/torch/utils/_contextlib.py\", line 35, in generator_context\n",
            "    response = gen.send(None)\n",
            "               ^^^^^^^^^^^^^^\n",
            "  File \"/usr/local/lib/python3.12/dist-packages/ultralytics/engine/predictor.py\", line 255, in stream_inference\n",
            "    im = self.preprocess(im0s)\n",
            "         ^^^^^^^^^^^^^^^^^^^^^\n",
            "  File \"/usr/local/lib/python3.12/dist-packages/ultralytics/engine/predictor.py\", line 123, in preprocess\n",
            "    im = torch.from_numpy(im)\n",
            "         ^^^^^^^^^^^^^^^^^^^^\n",
            "RuntimeError: Numpy is not available\n"
          ]
        }
      ]
    },
    {
      "cell_type": "code",
      "source": [
        "import glob\n",
        "for image_path in glob.glob(f'{HOME}/runs/detect/predict/*.jpg')[:10]:\n",
        "    display(Image(filename=image_path, width=600))\n",
        "    print(\"\\n\")"
      ],
      "metadata": {
        "id": "ujOUS5VvvIxT"
      },
      "execution_count": 10,
      "outputs": []
    }
  ],
  "metadata": {
    "accelerator": "GPU",
    "colab": {
      "gpuType": "T4",
      "provenance": []
    },
    "kernelspec": {
      "display_name": "Python 3",
      "name": "python3"
    },
    "language_info": {
      "codemirror_mode": {
        "name": "ipython",
        "version": 3
      },
      "file_extension": ".py",
      "mimetype": "text/x-python",
      "name": "python",
      "nbconvert_exporter": "python",
      "pygments_lexer": "ipython3",
      "version": "3.11.4"
    }
  },
  "nbformat": 4,
  "nbformat_minor": 0
}